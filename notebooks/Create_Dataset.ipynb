{
 "cells": [
  {
   "cell_type": "code",
   "execution_count": 1,
   "id": "bd60cddb-1ebc-4a28-8811-074aa8671a67",
   "metadata": {},
   "outputs": [],
   "source": [
    "%load_ext autoreload"
   ]
  },
  {
   "cell_type": "code",
   "execution_count": 2,
   "id": "a302c5b4-c7fa-437c-9d22-f5d6f021bcdb",
   "metadata": {},
   "outputs": [],
   "source": [
    "%autoreload 2"
   ]
  },
  {
   "cell_type": "code",
   "execution_count": 3,
   "id": "9a411379-d439-4ca1-a526-3c2ea2fdc53a",
   "metadata": {},
   "outputs": [],
   "source": [
    "from math import isnan\n",
    "from pathlib import Path\n",
    "import re\n",
    "import pandas as pd\n",
    "\n",
    "import sys\n",
    "sys.path.append('..')\n",
    "from src.data.loader import ExcelLoader\n",
    "from src.code.wals import language_to_wals_code"
   ]
  },
  {
   "cell_type": "code",
   "execution_count": 6,
   "id": "7ddb8082-715c-40d6-8248-9515d3de0ad8",
   "metadata": {},
   "outputs": [
    {
     "ename": "FileNotFoundError",
     "evalue": "[WinError 3] O sistema não pode encontrar o caminho especificado: '..\\\\dataset\\\\aligned_verses_spreadsheets'",
     "output_type": "error",
     "traceback": [
      "\u001b[1;31m---------------------------------------------------------------------------\u001b[0m",
      "\u001b[1;31mFileNotFoundError\u001b[0m                         Traceback (most recent call last)",
      "Cell \u001b[1;32mIn[6], line 3\u001b[0m\n\u001b[0;32m      1\u001b[0m multilingual \u001b[38;5;241m=\u001b[39m Path(\u001b[38;5;124m'\u001b[39m\u001b[38;5;124m../dataset/aligned_verses_spreadsheets/\u001b[39m\u001b[38;5;124m'\u001b[39m)\n\u001b[0;32m      2\u001b[0m greek \u001b[38;5;241m=\u001b[39m Path(\u001b[38;5;124m'\u001b[39m\u001b[38;5;124m../dataset/Ancient_Greek\u001b[39m\u001b[38;5;124m'\u001b[39m)\n\u001b[1;32m----> 3\u001b[0m excelloader \u001b[38;5;241m=\u001b[39m \u001b[43mExcelLoader\u001b[49m\u001b[43m(\u001b[49m\u001b[43mmultilingual\u001b[49m\u001b[43m,\u001b[49m\u001b[43m \u001b[49m\u001b[43mgreek\u001b[49m\u001b[43m)\u001b[49m\n\u001b[0;32m      4\u001b[0m table \u001b[38;5;241m=\u001b[39m Table(excelloader, language_to_wals_code)\n\u001b[0;32m      5\u001b[0m table\u001b[38;5;241m.\u001b[39mbuild()\n",
      "File \u001b[1;32m~\\source\\repos\\language-complexity-main\\notebooks\\..\\src\\data\\loader.py:12\u001b[0m, in \u001b[0;36mExcelLoader.__init__\u001b[1;34m(self, *path)\u001b[0m\n\u001b[0;32m     10\u001b[0m \u001b[38;5;28;01mfor\u001b[39;00m p \u001b[38;5;129;01min\u001b[39;00m path:\n\u001b[0;32m     11\u001b[0m     p \u001b[38;5;241m=\u001b[39m Path(p)\n\u001b[1;32m---> 12\u001b[0m     s, d \u001b[38;5;241m=\u001b[39m \u001b[38;5;28;43mself\u001b[39;49m\u001b[38;5;241;43m.\u001b[39;49m\u001b[43m_load\u001b[49m\u001b[43m(\u001b[49m\u001b[43mp\u001b[49m\u001b[43m)\u001b[49m\n\u001b[0;32m     13\u001b[0m     _path\u001b[38;5;241m.\u001b[39mappend(p)\n\u001b[0;32m     14\u001b[0m     _srcs\u001b[38;5;241m.\u001b[39mappend(s)\n",
      "File \u001b[1;32m~\\source\\repos\\language-complexity-main\\notebooks\\..\\src\\data\\loader.py:26\u001b[0m, in \u001b[0;36mExcelLoader._load\u001b[1;34m(self, path)\u001b[0m\n\u001b[0;32m     24\u001b[0m \u001b[38;5;28;01mdef\u001b[39;00m \u001b[38;5;21m_load\u001b[39m(\u001b[38;5;28mself\u001b[39m, path):\n\u001b[0;32m     25\u001b[0m     dirfiles \u001b[38;5;241m=\u001b[39m (\n\u001b[1;32m---> 26\u001b[0m         [path] \u001b[38;5;28;01mif\u001b[39;00m path\u001b[38;5;241m.\u001b[39mis_file() \u001b[38;5;28;01melse\u001b[39;00m \u001b[43m[\u001b[49m\u001b[43me\u001b[49m\u001b[43m \u001b[49m\u001b[38;5;28;43;01mfor\u001b[39;49;00m\u001b[43m \u001b[49m\u001b[43me\u001b[49m\u001b[43m \u001b[49m\u001b[38;5;129;43;01min\u001b[39;49;00m\u001b[43m \u001b[49m\u001b[43mpath\u001b[49m\u001b[38;5;241;43m.\u001b[39;49m\u001b[43miterdir\u001b[49m\u001b[43m(\u001b[49m\u001b[43m)\u001b[49m\u001b[43m \u001b[49m\u001b[38;5;28;43;01mif\u001b[39;49;00m\u001b[43m \u001b[49m\u001b[43me\u001b[49m\u001b[38;5;241;43m.\u001b[39;49m\u001b[43mis_file\u001b[49m\u001b[43m(\u001b[49m\u001b[43m)\u001b[49m\u001b[43m]\u001b[49m\n\u001b[0;32m     27\u001b[0m     )\n\u001b[0;32m     28\u001b[0m     excels \u001b[38;5;241m=\u001b[39m [\n\u001b[0;32m     29\u001b[0m         {k: v\u001b[38;5;241m.\u001b[39mto_dict() \u001b[38;5;28;01mfor\u001b[39;00m k, v \u001b[38;5;129;01min\u001b[39;00m pd\u001b[38;5;241m.\u001b[39mread_excel(e, \u001b[38;5;28;01mNone\u001b[39;00m)\u001b[38;5;241m.\u001b[39mitems()}\n\u001b[0;32m     30\u001b[0m         \u001b[38;5;28;01mfor\u001b[39;00m e \u001b[38;5;129;01min\u001b[39;00m dirfiles\n\u001b[0;32m     31\u001b[0m     ]\n\u001b[0;32m     32\u001b[0m     \u001b[38;5;28;01mreturn\u001b[39;00m dirfiles, excels\n",
      "File \u001b[1;32m~\\source\\repos\\requirements\\Python\\Lib\\pathlib.py:1056\u001b[0m, in \u001b[0;36mPath.iterdir\u001b[1;34m(self)\u001b[0m\n\u001b[0;32m   1050\u001b[0m \u001b[38;5;28;01mdef\u001b[39;00m \u001b[38;5;21miterdir\u001b[39m(\u001b[38;5;28mself\u001b[39m):\n\u001b[0;32m   1051\u001b[0m \u001b[38;5;250m    \u001b[39m\u001b[38;5;124;03m\"\"\"Yield path objects of the directory contents.\u001b[39;00m\n\u001b[0;32m   1052\u001b[0m \n\u001b[0;32m   1053\u001b[0m \u001b[38;5;124;03m    The children are yielded in arbitrary order, and the\u001b[39;00m\n\u001b[0;32m   1054\u001b[0m \u001b[38;5;124;03m    special entries '.' and '..' are not included.\u001b[39;00m\n\u001b[0;32m   1055\u001b[0m \u001b[38;5;124;03m    \"\"\"\u001b[39;00m\n\u001b[1;32m-> 1056\u001b[0m     \u001b[38;5;28;01mfor\u001b[39;00m name \u001b[38;5;129;01min\u001b[39;00m \u001b[43mos\u001b[49m\u001b[38;5;241;43m.\u001b[39;49m\u001b[43mlistdir\u001b[49m\u001b[43m(\u001b[49m\u001b[38;5;28;43mself\u001b[39;49m\u001b[43m)\u001b[49m:\n\u001b[0;32m   1057\u001b[0m         \u001b[38;5;28;01myield\u001b[39;00m \u001b[38;5;28mself\u001b[39m\u001b[38;5;241m.\u001b[39m_make_child_relpath(name)\n",
      "\u001b[1;31mFileNotFoundError\u001b[0m: [WinError 3] O sistema não pode encontrar o caminho especificado: '..\\\\dataset\\\\aligned_verses_spreadsheets'"
     ]
    }
   ],
   "source": []
  },
  {
   "cell_type": "code",
   "execution_count": null,
   "id": "243d12b5-dbe7-48d5-8360-009067e82a40",
   "metadata": {},
   "outputs": [],
   "source": []
  },
  {
   "cell_type": "code",
   "execution_count": 4,
   "id": "1197a2f1-e851-4ffb-985d-2afb452c2ab8",
   "metadata": {},
   "outputs": [
    {
     "ename": "NameError",
     "evalue": "name 'table' is not defined",
     "output_type": "error",
     "traceback": [
      "\u001b[1;31m---------------------------------------------------------------------------\u001b[0m",
      "\u001b[1;31mNameError\u001b[0m                                 Traceback (most recent call last)",
      "Cell \u001b[1;32mIn[4], line 1\u001b[0m\n\u001b[1;32m----> 1\u001b[0m \u001b[38;5;28;01mfor\u001b[39;00m i, (k, v) \u001b[38;5;129;01min\u001b[39;00m \u001b[38;5;28menumerate\u001b[39m(\u001b[43mtable\u001b[49m\u001b[38;5;241m.\u001b[39miterfix()):\n\u001b[0;32m      2\u001b[0m     \u001b[38;5;28mprint\u001b[39m(i, k)\n\u001b[0;32m      3\u001b[0m     \u001b[38;5;28;01mif\u001b[39;00m i \u001b[38;5;241m>\u001b[39m \u001b[38;5;241m5\u001b[39m: \u001b[38;5;28;01mbreak\u001b[39;00m\n",
      "\u001b[1;31mNameError\u001b[0m: name 'table' is not defined"
     ]
    }
   ],
   "source": []
  },
  {
   "cell_type": "code",
   "execution_count": 4,
   "id": "83dacb37-fff3-4b07-ba69-1deca8a8b082",
   "metadata": {},
   "outputs": [],
   "source": [
    "import pandas as pd"
   ]
  },
  {
   "cell_type": "code",
   "execution_count": null,
   "id": "3390a4c6-870e-44f5-804c-333b0f7a37ba",
   "metadata": {},
   "outputs": [],
   "source": [
    "from collections import Counter\n",
    "from unicodedata import category as cat\n",
    "\n",
    "def table_chars(table):\n",
    "    cnt = Counter()\n",
    "    for k, v in table.iterfix():\n",
    "        cnt.update(v)\n",
    "    return cnt"
   ]
  },
  {
   "cell_type": "code",
   "execution_count": null,
   "id": "94cc398b-1de0-4d4f-a530-d2e3845523a3",
   "metadata": {},
   "outputs": [],
   "source": [
    "char_freq = table_chars(table) "
   ]
  },
  {
   "cell_type": "code",
   "execution_count": null,
   "id": "b2558c0a-f236-4a31-984e-3fdc95809c36",
   "metadata": {},
   "outputs": [],
   "source": [
    "#for k, v in char_freq.items():\n",
    "#    print('%r %r' % (k, v), cat(k))"
   ]
  },
  {
   "cell_type": "code",
   "execution_count": 7,
   "id": "0c76372f-d735-4a01-b409-d3d682b9ffb6",
   "metadata": {},
   "outputs": [],
   "source": [
    "def table_to_df(table):\n",
    "    cols = dict(book=[], chapter=[], language=[], language_wals_code=[], verse_number=[], text=[])\n",
    "    for k, v in table.iterfix():\n",
    "        cols['book'].append(k.book)\n",
    "        cols['chapter'].append(int(k.chap[k.chap.find('.')+1:]))\n",
    "        cols['language'].append(k.lang)\n",
    "        cols['language_wals_code'].append(language_to_wals_code[k.lang])\n",
    "        cols['verse_number'].append(k.vers)\n",
    "        cols['text'].append(''.join([c for c in v if not cat(c).startswith('C')]))\n",
    "    return pd.DataFrame(data=cols)"
   ]
  },
  {
   "cell_type": "code",
   "execution_count": 8,
   "id": "f9306da3-37a4-42b3-915e-1a4b4a03f1ba",
   "metadata": {},
   "outputs": [
    {
     "ename": "NameError",
     "evalue": "name 'table' is not defined",
     "output_type": "error",
     "traceback": [
      "\u001b[1;31m---------------------------------------------------------------------------\u001b[0m",
      "\u001b[1;31mNameError\u001b[0m                                 Traceback (most recent call last)",
      "Cell \u001b[1;32mIn[8], line 1\u001b[0m\n\u001b[1;32m----> 1\u001b[0m df \u001b[38;5;241m=\u001b[39m table_to_df(\u001b[43mtable\u001b[49m)\n\u001b[0;32m      2\u001b[0m df \u001b[38;5;241m=\u001b[39m df[df\u001b[38;5;241m.\u001b[39mtext\u001b[38;5;241m.\u001b[39mstr\u001b[38;5;241m.\u001b[39mlen() \u001b[38;5;241m>\u001b[39m \u001b[38;5;241m0\u001b[39m]\n",
      "\u001b[1;31mNameError\u001b[0m: name 'table' is not defined"
     ]
    }
   ],
   "source": [
    "df = table_to_df(table)\n",
    "df = df[df.text.str.len() > 0]"
   ]
  },
  {
   "cell_type": "code",
   "execution_count": 5,
   "id": "b49b7718-e557-4de1-88f5-211cb17bfee2",
   "metadata": {},
   "outputs": [
    {
     "ename": "NameError",
     "evalue": "name 'df' is not defined",
     "output_type": "error",
     "traceback": [
      "\u001b[1;31m---------------------------------------------------------------------------\u001b[0m",
      "\u001b[1;31mNameError\u001b[0m                                 Traceback (most recent call last)",
      "Cell \u001b[1;32mIn[5], line 1\u001b[0m\n\u001b[1;32m----> 1\u001b[0m \u001b[43mdf\u001b[49m\u001b[38;5;241m.\u001b[39mto_csv(\u001b[38;5;124m'\u001b[39m\u001b[38;5;124m../dataset/bibles_lcm.csv\u001b[39m\u001b[38;5;124m'\u001b[39m, index\u001b[38;5;241m=\u001b[39m\u001b[38;5;28;01mFalse\u001b[39;00m)\n",
      "\u001b[1;31mNameError\u001b[0m: name 'df' is not defined"
     ]
    }
   ],
   "source": [
    "df.to_csv('../dataset/bibles_lcm.csv', index=False)"
   ]
  },
  {
   "cell_type": "code",
   "execution_count": null,
   "id": "ac29bb63-1dec-4fab-9a81-1e1a6f7b6464",
   "metadata": {},
   "outputs": [],
   "source": [
    "df2 = pd.read_csv('../dataset/bibles_lcm.csv')"
   ]
  },
  {
   "cell_type": "code",
   "execution_count": null,
   "id": "d2bd5d81-0427-4cca-bf84-ae1ad0e31aa8",
   "metadata": {},
   "outputs": [],
   "source": [
    "df2.head()"
   ]
  },
  {
   "cell_type": "code",
   "execution_count": null,
   "id": "a0044eb8-8f8b-44a8-b4e8-c824af942e46",
   "metadata": {},
   "outputs": [],
   "source": [
    "# create lcm dataset\n",
    "import src.data.util as du\n",
    "lcm_df = du.lcm(df)"
   ]
  },
  {
   "cell_type": "code",
   "execution_count": null,
   "id": "80cbd564-e630-4341-b908-8675d77b8511",
   "metadata": {},
   "outputs": [],
   "source": [
    "lcm_df"
   ]
  },
  {
   "cell_type": "code",
   "execution_count": null,
   "id": "8858295f-23cd-4837-a27a-8dc6fd29d20b",
   "metadata": {},
   "outputs": [],
   "source": [
    "lcm_df_full = df.merge(lcm_df, how='inner', on=['book', 'chapter', 'verse_number'])"
   ]
  },
  {
   "cell_type": "code",
   "execution_count": null,
   "id": "d5b896ae-ab43-4aa4-8e16-990b640d0fd1",
   "metadata": {},
   "outputs": [],
   "source": [
    "lcm_df_full[lcm_df_full.language == 'ENGLISH']"
   ]
  },
  {
   "cell_type": "code",
   "execution_count": null,
   "id": "1f74b067-5a38-495d-a067-2ec97a6b9f7f",
   "metadata": {},
   "outputs": [],
   "source": [
    "lcm_df_full.to_csv('../dataset/bibles_lcm.csv', index=False)"
   ]
  },
  {
   "cell_type": "code",
   "execution_count": null,
   "id": "84700de2-a6de-4fc4-ba32-5be2387e0097",
   "metadata": {},
   "outputs": [],
   "source": [
    "# create lcm90 dataset\n",
    "lcm_cut90_langs = du.lcm_with_cut(df, 0.9)"
   ]
  },
  {
   "cell_type": "code",
   "execution_count": null,
   "id": "9f361b01-4f2b-4532-883e-7f074d3180a0",
   "metadata": {},
   "outputs": [],
   "source": [
    "lcm_cut90_langs"
   ]
  },
  {
   "cell_type": "code",
   "execution_count": null,
   "id": "cd1f4d29-dafd-4053-a061-befd8511084a",
   "metadata": {},
   "outputs": [],
   "source": [
    "lcm_cut_90_df = du.intersection(df[df.language.isin(lcm_cut90_langs)])"
   ]
  },
  {
   "cell_type": "code",
   "execution_count": null,
   "id": "c6b0e187-10eb-4914-8248-47049f287a8d",
   "metadata": {},
   "outputs": [],
   "source": [
    "lcm_cut_90_df.to_csv('../dataset/bibles_90_lcm.csv', index=False)"
   ]
  }
 ],
 "metadata": {
  "kernelspec": {
   "display_name": "Python 3 (ipykernel)",
   "language": "python",
   "name": "python3"
  },
  "language_info": {
   "codemirror_mode": {
    "name": "ipython",
    "version": 3
   },
   "file_extension": ".py",
   "mimetype": "text/x-python",
   "name": "python",
   "nbconvert_exporter": "python",
   "pygments_lexer": "ipython3",
   "version": "3.12.5"
  }
 },
 "nbformat": 4,
 "nbformat_minor": 5
}
