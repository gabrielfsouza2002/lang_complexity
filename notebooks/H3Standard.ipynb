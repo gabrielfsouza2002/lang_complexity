{
 "cells": [
  {
   "metadata": {
    "ExecuteTime": {
     "end_time": "2024-10-22T14:23:17.772344Z",
     "start_time": "2024-10-22T14:23:17.763385Z"
    }
   },
   "cell_type": "code",
   "outputs": [],
   "execution_count": 4,
   "source": [
    "import matplotlib.pyplot as plt\n",
    "import numpy as np\n",
    "import pandas as pd\n",
    "from scipy import stats"
   ],
   "id": "b15a14ea3d19a10b"
  },
  {
   "metadata": {},
   "cell_type": "code",
   "outputs": [],
   "execution_count": null,
   "source": [
    "d90_file = '../results/complexity_utf-16_10_10_1234_bibles_90_lcm.csv'\n",
    "dall_file = '../results/complexity_utf-16_10_10_1234_bibles_lcm.csv'\n",
    "\n",
    "# Carregar o arquivo original\n",
    "original_file1 = '../dataset/bibles_lcm.csv'\n",
    "original_file2 = '../dataset/bibles_90_lcm.csv'\n",
    "df_original1 = pd.read_csv(original_file1)\n",
    "df_original2 = pd.read_csv(original_file2)\n",
    "\n",
    "# Calcular o tamanho do texto por língua\n",
    "text_sizes_90_lcm = df_original1.groupby('language')['text'].apply(lambda x: sum(len(text) for text in x)).reset_index()\n",
    "text_sizes_90_lcm = text_sizes_90_lcm.rename(columns={'text': 'text_size'})\n",
    "\n",
    "text_sizes_lcm = df_original1.groupby('language')['text'].apply(lambda x: sum(len(text) for text in x)).reset_index()\n",
    "text_sizes_lcm = text_sizes_lcm.rename(columns={'text': 'text_size'})\n",
    "\n",
    "\n",
    "df90 = pd.read_csv(d90_file, index_col=False)\n",
    "df90 = df90[df90.language != 'NAMBIKUÁRA'] # We removed Nambikuára because it has tone annotation\n",
    "#df90.loc[df90.metric == 'del-chars', 'value'] = - df90.loc[df90.metric == 'del-chars', 'value']\n",
    "\n",
    "dfall = pd.read_csv(dall_file, index_col=False)\n",
    "dfall = dfall[dfall.language != 'NAMBIKUÁRA'] # We removed Nambikuára because it has tone annotation\n",
    "#dfall.loc[dfall.metric == 'del-chars', 'value'] = - dfall.loc[dfall.metric == 'del-chars', 'value']\n",
    "\n",
    "df90 = df90.merge(text_sizes_90_lcm, on='language', how='left')\n",
    "dfall = dfall.merge(text_sizes_lcm, on='language', how='left')\n",
    "\n",
    "family = pd.read_csv('../dataset/family.csv', index_col=None)"
   ],
   "id": "e5ef176a0c7797ed"
  },
  {
   "metadata": {},
   "cell_type": "code",
   "outputs": [],
   "execution_count": null,
   "source": "",
   "id": "c986a7148934449d"
  }
 ],
 "metadata": {
  "kernelspec": {
   "display_name": "Python 3",
   "language": "python",
   "name": "python3"
  },
  "language_info": {
   "codemirror_mode": {
    "name": "ipython",
    "version": 2
   },
   "file_extension": ".py",
   "mimetype": "text/x-python",
   "name": "python",
   "nbconvert_exporter": "python",
   "pygments_lexer": "ipython2",
   "version": "2.7.6"
  }
 },
 "nbformat": 4,
 "nbformat_minor": 5
}
