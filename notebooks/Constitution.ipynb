{
 "cells": [
  {
   "cell_type": "code",
   "id": "f689752e-20b0-4a03-855a-d697ab660ee2",
   "metadata": {
    "ExecuteTime": {
     "end_time": "2024-09-12T12:51:11.123354Z",
     "start_time": "2024-09-12T12:51:11.091598Z"
    }
   },
   "source": [
    "%load_ext autoreload"
   ],
   "outputs": [],
   "execution_count": 1
  },
  {
   "cell_type": "code",
   "id": "b7f58d92-c33d-4cc2-809a-1b38d4b3b689",
   "metadata": {
    "ExecuteTime": {
     "end_time": "2024-09-12T12:51:13.620295Z",
     "start_time": "2024-09-12T12:51:13.608210Z"
    }
   },
   "source": [
    "%autoreload 2"
   ],
   "outputs": [],
   "execution_count": 2
  },
  {
   "cell_type": "code",
   "id": "b58c94b2-39ec-48c4-b6f6-ff5db5207c77",
   "metadata": {
    "ExecuteTime": {
     "end_time": "2024-09-12T12:51:18.181223Z",
     "start_time": "2024-09-12T12:51:15.462812Z"
    }
   },
   "source": [
    "import sys\n",
    "sys.path.append('..')\n",
    "import src.text as text\n",
    "from src.text import tokenizer\n",
    "from src.data import util\n",
    "\n",
    "import pandas as pd"
   ],
   "outputs": [],
   "execution_count": 3
  },
  {
   "cell_type": "code",
   "id": "5ede25a9-e960-44b7-865f-e9eea0470e3d",
   "metadata": {
    "ExecuteTime": {
     "end_time": "2024-09-12T12:51:45.546792Z",
     "start_time": "2024-09-12T12:51:43.209876Z"
    }
   },
   "source": "df = pd.read_csv('../dataset/bibles_90_lcm.csv', index_col=0)",
   "outputs": [],
   "execution_count": 6
  },
  {
   "cell_type": "code",
   "id": "baefaf29-de7e-4912-a53d-75e2907eb111",
   "metadata": {
    "ExecuteTime": {
     "end_time": "2024-09-12T12:51:47.164184Z",
     "start_time": "2024-09-12T12:51:47.105430Z"
    }
   },
   "source": [
    "df.head(5)"
   ],
   "outputs": [
    {
     "data": {
      "text/plain": [
       "      chapter       language language_wals_code  verse_number  \\\n",
       "book                                                            \n",
       "ROM         1  ANCIENT_GREEK              [grc]             1   \n",
       "ROM         1        APALAÍ                apl             1   \n",
       "ROM         1        APURINÃ                apu             1   \n",
       "ROM         1      ASHENINKA                cax             1   \n",
       "ROM         1        ENGLISH                eng             1   \n",
       "\n",
       "                                                   text  \n",
       "book                                                     \n",
       "ROM   Παῦλος δοῦλος Χριστοῦ Ἰησοῦ, κλητὸς ἀπόστολος,...  \n",
       "ROM   Ynymerohpyry moro onenerykõme Roma põkomo. Ywy...  \n",
       "ROM   Nota Paoro iokanatsopata hĩtemoni. Xesosi Kris...  \n",
       "ROM   Naaka Pablo osankenatzimirori, rimperatanewo J...  \n",
       "ROM   From Paul, a slave of Christ Jesus, called to ...  "
      ],
      "text/html": [
       "<div>\n",
       "<style scoped>\n",
       "    .dataframe tbody tr th:only-of-type {\n",
       "        vertical-align: middle;\n",
       "    }\n",
       "\n",
       "    .dataframe tbody tr th {\n",
       "        vertical-align: top;\n",
       "    }\n",
       "\n",
       "    .dataframe thead th {\n",
       "        text-align: right;\n",
       "    }\n",
       "</style>\n",
       "<table border=\"1\" class=\"dataframe\">\n",
       "  <thead>\n",
       "    <tr style=\"text-align: right;\">\n",
       "      <th></th>\n",
       "      <th>chapter</th>\n",
       "      <th>language</th>\n",
       "      <th>language_wals_code</th>\n",
       "      <th>verse_number</th>\n",
       "      <th>text</th>\n",
       "    </tr>\n",
       "    <tr>\n",
       "      <th>book</th>\n",
       "      <th></th>\n",
       "      <th></th>\n",
       "      <th></th>\n",
       "      <th></th>\n",
       "      <th></th>\n",
       "    </tr>\n",
       "  </thead>\n",
       "  <tbody>\n",
       "    <tr>\n",
       "      <th>ROM</th>\n",
       "      <td>1</td>\n",
       "      <td>ANCIENT_GREEK</td>\n",
       "      <td>[grc]</td>\n",
       "      <td>1</td>\n",
       "      <td>Παῦλος δοῦλος Χριστοῦ Ἰησοῦ, κλητὸς ἀπόστολος,...</td>\n",
       "    </tr>\n",
       "    <tr>\n",
       "      <th>ROM</th>\n",
       "      <td>1</td>\n",
       "      <td>APALAÍ</td>\n",
       "      <td>apl</td>\n",
       "      <td>1</td>\n",
       "      <td>Ynymerohpyry moro onenerykõme Roma põkomo. Ywy...</td>\n",
       "    </tr>\n",
       "    <tr>\n",
       "      <th>ROM</th>\n",
       "      <td>1</td>\n",
       "      <td>APURINÃ</td>\n",
       "      <td>apu</td>\n",
       "      <td>1</td>\n",
       "      <td>Nota Paoro iokanatsopata hĩtemoni. Xesosi Kris...</td>\n",
       "    </tr>\n",
       "    <tr>\n",
       "      <th>ROM</th>\n",
       "      <td>1</td>\n",
       "      <td>ASHENINKA</td>\n",
       "      <td>cax</td>\n",
       "      <td>1</td>\n",
       "      <td>Naaka Pablo osankenatzimirori, rimperatanewo J...</td>\n",
       "    </tr>\n",
       "    <tr>\n",
       "      <th>ROM</th>\n",
       "      <td>1</td>\n",
       "      <td>ENGLISH</td>\n",
       "      <td>eng</td>\n",
       "      <td>1</td>\n",
       "      <td>From Paul, a slave of Christ Jesus, called to ...</td>\n",
       "    </tr>\n",
       "  </tbody>\n",
       "</table>\n",
       "</div>"
      ]
     },
     "execution_count": 7,
     "metadata": {},
     "output_type": "execute_result"
    }
   ],
   "execution_count": 7
  },
  {
   "cell_type": "code",
   "id": "417d8984-091b-4dc9-96f4-7bbf8f5f1480",
   "metadata": {
    "ExecuteTime": {
     "end_time": "2024-09-12T12:52:09.987189Z",
     "start_time": "2024-09-12T12:52:09.158067Z"
    }
   },
   "source": [
    "d = util.by_field(df, 'language')"
   ],
   "outputs": [],
   "execution_count": 8
  },
  {
   "cell_type": "code",
   "id": "680ef8e7-44ae-47f9-ab79-7b3adb798c0a",
   "metadata": {
    "ExecuteTime": {
     "end_time": "2024-09-12T12:52:13.744566Z",
     "start_time": "2024-09-12T12:52:13.658658Z"
    }
   },
   "source": [
    "d['ANCIENT_GREEK'].columns"
   ],
   "outputs": [
    {
     "data": {
      "text/plain": [
       "Index(['chapter', 'language_wals_code', 'verse_number', 'text'], dtype='object')"
      ]
     },
     "execution_count": 9,
     "metadata": {},
     "output_type": "execute_result"
    }
   ],
   "execution_count": 9
  },
  {
   "cell_type": "code",
   "id": "6f9869c4-8795-494c-8b82-a8c4b7415431",
   "metadata": {
    "ExecuteTime": {
     "end_time": "2024-09-12T12:52:18.782636Z",
     "start_time": "2024-09-12T12:52:18.690878Z"
    }
   },
   "source": [
    "len(d['ANCIENT_GREEK'])"
   ],
   "outputs": [
    {
     "data": {
      "text/plain": [
       "7159"
      ]
     },
     "execution_count": 10,
     "metadata": {},
     "output_type": "execute_result"
    }
   ],
   "execution_count": 10
  },
  {
   "cell_type": "code",
   "execution_count": 9,
   "id": "bcb751ea-4881-4637-940d-ccd28a99a7bf",
   "metadata": {},
   "outputs": [
    {
     "data": {
      "text/plain": [
       "7942"
      ]
     },
     "execution_count": 9,
     "metadata": {},
     "output_type": "execute_result"
    }
   ],
   "source": [
    "len(d['ENGLISH'])"
   ]
  },
  {
   "cell_type": "code",
   "execution_count": 10,
   "id": "7685aa97-1baf-4ba9-bdd3-740cfff697d2",
   "metadata": {},
   "outputs": [
    {
     "data": {
      "text/plain": [
       "Index(['book', 'chapter', 'language_wals_code', 'versicle_number', 'text'], dtype='object')"
      ]
     },
     "execution_count": 10,
     "metadata": {},
     "output_type": "execute_result"
    }
   ],
   "source": [
    "d['ENGLISH'].columns"
   ]
  },
  {
   "cell_type": "code",
   "execution_count": 11,
   "id": "0c52e4aa-1575-4e3c-8301-330dc13859b0",
   "metadata": {},
   "outputs": [
    {
     "data": {
      "text/html": [
       "<div>\n",
       "<style scoped>\n",
       "    .dataframe tbody tr th:only-of-type {\n",
       "        vertical-align: middle;\n",
       "    }\n",
       "\n",
       "    .dataframe tbody tr th {\n",
       "        vertical-align: top;\n",
       "    }\n",
       "\n",
       "    .dataframe thead th {\n",
       "        text-align: right;\n",
       "    }\n",
       "</style>\n",
       "<table border=\"1\" class=\"dataframe\">\n",
       "  <thead>\n",
       "    <tr style=\"text-align: right;\">\n",
       "      <th></th>\n",
       "      <th>book</th>\n",
       "      <th>chapter</th>\n",
       "      <th>versicle_number</th>\n",
       "    </tr>\n",
       "  </thead>\n",
       "  <tbody>\n",
       "    <tr>\n",
       "      <th>0</th>\n",
       "      <td>MAT</td>\n",
       "      <td>1</td>\n",
       "      <td>18</td>\n",
       "    </tr>\n",
       "    <tr>\n",
       "      <th>1</th>\n",
       "      <td>MAT</td>\n",
       "      <td>1</td>\n",
       "      <td>19</td>\n",
       "    </tr>\n",
       "    <tr>\n",
       "      <th>2</th>\n",
       "      <td>MAT</td>\n",
       "      <td>1</td>\n",
       "      <td>20</td>\n",
       "    </tr>\n",
       "    <tr>\n",
       "      <th>3</th>\n",
       "      <td>MAT</td>\n",
       "      <td>1</td>\n",
       "      <td>21</td>\n",
       "    </tr>\n",
       "    <tr>\n",
       "      <th>4</th>\n",
       "      <td>MAT</td>\n",
       "      <td>2</td>\n",
       "      <td>3</td>\n",
       "    </tr>\n",
       "    <tr>\n",
       "      <th>...</th>\n",
       "      <td>...</td>\n",
       "      <td>...</td>\n",
       "      <td>...</td>\n",
       "    </tr>\n",
       "    <tr>\n",
       "      <th>2580</th>\n",
       "      <td>REV</td>\n",
       "      <td>22</td>\n",
       "      <td>15</td>\n",
       "    </tr>\n",
       "    <tr>\n",
       "      <th>2581</th>\n",
       "      <td>REV</td>\n",
       "      <td>22</td>\n",
       "      <td>16</td>\n",
       "    </tr>\n",
       "    <tr>\n",
       "      <th>2582</th>\n",
       "      <td>REV</td>\n",
       "      <td>22</td>\n",
       "      <td>17</td>\n",
       "    </tr>\n",
       "    <tr>\n",
       "      <th>2583</th>\n",
       "      <td>REV</td>\n",
       "      <td>22</td>\n",
       "      <td>20</td>\n",
       "    </tr>\n",
       "    <tr>\n",
       "      <th>2584</th>\n",
       "      <td>REV</td>\n",
       "      <td>22</td>\n",
       "      <td>21</td>\n",
       "    </tr>\n",
       "  </tbody>\n",
       "</table>\n",
       "<p>2585 rows × 3 columns</p>\n",
       "</div>"
      ],
      "text/plain": [
       "     book  chapter  versicle_number\n",
       "0     MAT        1               18\n",
       "1     MAT        1               19\n",
       "2     MAT        1               20\n",
       "3     MAT        1               21\n",
       "4     MAT        2                3\n",
       "...   ...      ...              ...\n",
       "2580  REV       22               15\n",
       "2581  REV       22               16\n",
       "2582  REV       22               17\n",
       "2583  REV       22               20\n",
       "2584  REV       22               21\n",
       "\n",
       "[2585 rows x 3 columns]"
      ]
     },
     "execution_count": 11,
     "metadata": {},
     "output_type": "execute_result"
    }
   ],
   "source": [
    "util.lcm(df)"
   ]
  },
  {
   "cell_type": "code",
   "execution_count": 12,
   "id": "d0b6e20c-0b6c-4fe1-896c-c58713edc6f9",
   "metadata": {},
   "outputs": [],
   "source": [
    "all_verses = util.lcm_with_cut(df, 0.9)"
   ]
  },
  {
   "cell_type": "code",
   "execution_count": 13,
   "id": "cca91443-d6de-4836-9fb9-7990846cae33",
   "metadata": {},
   "outputs": [
    {
     "data": {
      "text/plain": [
       "['TUYÚCA',\n",
       " 'MATSÉS',\n",
       " 'MACUSHI',\n",
       " 'NADEB',\n",
       " 'WAPISHANA',\n",
       " 'MAXAKALI',\n",
       " 'GUARANI_EASTERN_BOLIVIAN',\n",
       " 'GUARANI_WESTERN_BOLIVIAN',\n",
       " 'APALAÍ',\n",
       " 'KAIGANG',\n",
       " 'GUARANI_PARAGUAY',\n",
       " 'JAMAMADI',\n",
       " 'YANOMAMI',\n",
       " 'PALIKÚR',\n",
       " 'ANCIENT_GREEK',\n",
       " 'ENGLISH',\n",
       " 'SPANISH',\n",
       " 'APURINÃ',\n",
       " 'ASHENINKA',\n",
       " 'FRENCH',\n",
       " 'GUARANI_MBYA',\n",
       " 'GERMANY',\n",
       " 'PARECÍS',\n",
       " 'PORTUGUESE',\n",
       " 'TERÊNA',\n",
       " 'NHEENGATU',\n",
       " 'SATERÉ-MAWÉ']"
      ]
     },
     "execution_count": 13,
     "metadata": {},
     "output_type": "execute_result"
    }
   ],
   "source": [
    "all_verses"
   ]
  },
  {
   "cell_type": "code",
   "execution_count": 14,
   "id": "86b667f5-3772-4965-91f6-33ff86cc8745",
   "metadata": {},
   "outputs": [],
   "source": [
    "s = util.lcm_with_cut(df, 0.9)"
   ]
  },
  {
   "cell_type": "code",
   "execution_count": 16,
   "id": "4dbf7927-907c-48fe-ad1d-6fa9d6cc251c",
   "metadata": {},
   "outputs": [],
   "source": [
    "r = util.intersection(df[df['language'].isin(s)])"
   ]
  },
  {
   "cell_type": "code",
   "execution_count": 17,
   "id": "f9394063-784b-4684-af13-00bc1405706d",
   "metadata": {},
   "outputs": [
    {
     "data": {
      "text/plain": [
       "7159.0"
      ]
     },
     "execution_count": 17,
     "metadata": {},
     "output_type": "execute_result"
    }
   ],
   "source": [
    "len(r) / len(r['language'].unique())"
   ]
  }
 ],
 "metadata": {
  "kernelspec": {
   "display_name": "Python 3 (ipykernel)",
   "language": "python",
   "name": "python3"
  },
  "language_info": {
   "codemirror_mode": {
    "name": "ipython",
    "version": 3
   },
   "file_extension": ".py",
   "mimetype": "text/x-python",
   "name": "python",
   "nbconvert_exporter": "python",
   "pygments_lexer": "ipython3",
   "version": "3.11.6"
  }
 },
 "nbformat": 4,
 "nbformat_minor": 5
}
