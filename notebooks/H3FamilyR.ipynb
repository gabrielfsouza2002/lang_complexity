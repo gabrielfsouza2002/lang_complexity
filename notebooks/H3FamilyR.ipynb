{
 "cells": [
  {
   "metadata": {
    "ExecuteTime": {
     "end_time": "2024-10-22T14:23:17.772344Z",
     "start_time": "2024-10-22T14:23:17.763385Z"
    }
   },
   "cell_type": "code",
   "source": [
    "import matplotlib.pyplot as plt\n",
    "import numpy as np\n",
    "import pandas as pd\n",
    "from scipy import stats"
   ],
   "id": "1fe1e23499d79017",
   "outputs": [],
   "execution_count": 4
  },
  {
   "metadata": {
    "collapsed": true,
    "ExecuteTime": {
     "end_time": "2024-10-22T14:23:22.402373Z",
     "start_time": "2024-10-22T14:23:19.089670Z"
    }
   },
   "cell_type": "code",
   "source": [
    "# Carregando os dados necessários\n",
    "bibles_lcm_file = '../dataset/bibles_lcm.csv'\n",
    "bibles_90_lcm_file = '../dataset/bibles_90_lcm.csv'\n",
    "\n",
    "df_lcm = pd.read_csv(bibles_lcm_file)\n",
    "df_90_lcm = pd.read_csv(bibles_90_lcm_file)\n",
    "\n",
    "# Inspecionar os primeiros registros dos dataframes\n",
    "print(\"Colunas de df_90_lcm:\")\n",
    "print(df_90_lcm.columns)\n",
    "print(\"\\nPrimeiras linhas de df_90_lcm:\")\n",
    "print(df_90_lcm.head())\n",
    "\n",
    "print(\"\\nColunas de df_lcm:\")\n",
    "print(df_lcm.columns)\n",
    "print(\"\\nPrimeiras linhas de df_lcm:\")\n",
    "print(df_lcm.head())"
   ],
   "id": "initial_id",
   "outputs": [
    {
     "name": "stdout",
     "output_type": "stream",
     "text": [
      "Colunas de df_90_lcm:\n",
      "Index(['book', 'chapter', 'language', 'language_wals_code', 'verse_number',\n",
      "       'text'],\n",
      "      dtype='object')\n",
      "\n",
      "Primeiras linhas de df_90_lcm:\n",
      "  book  chapter       language language_wals_code  verse_number  \\\n",
      "0  ROM        1  ANCIENT_GREEK              [grc]             1   \n",
      "1  ROM        1        APALAÍ                apl             1   \n",
      "2  ROM        1        APURINÃ                apu             1   \n",
      "3  ROM        1      ASHENINKA                cax             1   \n",
      "4  ROM        1        ENGLISH                eng             1   \n",
      "\n",
      "                                                text  \n",
      "0  Παῦλος δοῦλος Χριστοῦ Ἰησοῦ, κλητὸς ἀπόστολος,...  \n",
      "1  Ynymerohpyry moro onenerykõme Roma põkomo. Ywy...  \n",
      "2  Nota Paoro iokanatsopata hĩtemoni. Xesosi Kris...  \n",
      "3  Naaka Pablo osankenatzimirori, rimperatanewo J...  \n",
      "4  From Paul, a slave of Christ Jesus, called to ...  \n",
      "\n",
      "Colunas de df_lcm:\n",
      "Index(['book', 'chapter', 'language', 'language_wals_code', 'verse_number',\n",
      "       'text'],\n",
      "      dtype='object')\n",
      "\n",
      "Primeiras linhas de df_lcm:\n",
      "  book  chapter       language language_wals_code  verse_number  \\\n",
      "0  ROM        1  ANCIENT_GREEK              [grc]             8   \n",
      "1  ROM        1        APALAÍ                apl             8   \n",
      "2  ROM        1       APINAYÉ                api             8   \n",
      "3  ROM        1        APURINÃ                apu             8   \n",
      "4  ROM        1      ASHENINKA                cax             8   \n",
      "\n",
      "                                                text  \n",
      "0  Πρῶτον μὲν εὐχαριστῶ τῷ θεῷ μου διὰ Ἰησοῦ Χρισ...  \n",
      "1  Jezu Kyrixtu toorihse exiryke kyyrypyrykõ epeh...  \n",
      "2  Nẽ na ka prem amnhĩ kaxyw Jejus Kris mã ajamax...  \n",
      "3  Merepanika nitxari niTeosone: “Erekapitikai, k...  \n",
      "4  Jiroka netawakyaari nonkante: Niwetharyaari Pa...  \n"
     ]
    }
   ],
   "execution_count": 5
  }
 ],
 "metadata": {
  "kernelspec": {
   "display_name": "Python 3",
   "language": "python",
   "name": "python3"
  },
  "language_info": {
   "codemirror_mode": {
    "name": "ipython",
    "version": 2
   },
   "file_extension": ".py",
   "mimetype": "text/x-python",
   "name": "python",
   "nbconvert_exporter": "python",
   "pygments_lexer": "ipython2",
   "version": "2.7.6"
  }
 },
 "nbformat": 4,
 "nbformat_minor": 5
}
